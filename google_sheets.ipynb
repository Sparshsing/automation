{
 "cells": [
  {
   "cell_type": "markdown",
   "metadata": {},
   "source": [
    "## Google sheets api usage without Service Account\n",
    "ref. [Google Sheets API Quickstart](https://developers.google.com/sheets/api/quickstart/python)\n",
    "\n",
    "### Steps\n",
    "1. Create a project in Google Cloud.\n",
    "2. Enable Google Sheets API.\n",
    "3. Configure OAuth:\n",
    "    1. Go to OAuth consent screen.\n",
    "    2. Select user type \"External\" (since \"Internal\" is disabled for normal Google users).\n",
    "    3. Provide a random website address in app domain settings (if a non-existent website doesn't work, provide any real website, e.g., `https://www.randomwebsite.com`).\n",
    "    4. Enter the same in the authorized domain, e.g., `randomwebsite.com`.\n",
    "    5. Enter your email.\n",
    "    6. Add a test user with your email.\n",
    "4. Create credentials and save the JSON as `credentials.json`.\n",
    "5. Install Python libraries and run.\n"
   ]
  },
  {
   "cell_type": "code",
   "execution_count": 16,
   "metadata": {},
   "outputs": [],
   "source": []
  },
  {
   "cell_type": "code",
   "execution_count": 44,
   "metadata": {},
   "outputs": [],
   "source": [
    "import os.path\n",
    "\n",
    "from google.auth.transport.requests import Request\n",
    "from google.oauth2.credentials import Credentials\n",
    "from google_auth_oauthlib.flow import InstalledAppFlow\n",
    "from googleapiclient.discovery import build\n",
    "from googleapiclient.errors import HttpError\n"
   ]
  },
  {
   "cell_type": "code",
   "execution_count": 45,
   "metadata": {},
   "outputs": [],
   "source": [
    "\n",
    "# If modifying these scopes, delete the file token.json.\n",
    "SCOPES = [\"https://www.googleapis.com/auth/spreadsheets.readonly\"] # remove.readonly if you want to write to the sheet\n",
    "\n",
    "# The ID and range of a sample spreadsheet.\n",
    "SAMPLE_SPREADSHEET_ID = \"1MDXKcN6B6xDFkSx4iNXYmXPJQDh_TGblSTPXi7Y8uIA\"\n",
    "SAMPLE_RANGE_NAME = \"Sheet1!A2:C6\"\n"
   ]
  },
  {
   "cell_type": "markdown",
   "metadata": {},
   "source": [
    "## Auth using Google library"
   ]
  },
  {
   "cell_type": "code",
   "execution_count": null,
   "metadata": {},
   "outputs": [
    {
     "name": "stdout",
     "output_type": "stream",
     "text": [
      "Please visit this URL to authorize this application: https://accounts.google.com/o/oauth2/auth?response_type=code&client_id=879966407845-30rpk9p1l7fulmjit3c9v4mgh0fq99s8.apps.googleusercontent.com&redirect_uri=http%3A%2F%2Flocalhost%3A51825%2F&scope=https%3A%2F%2Fwww.googleapis.com%2Fauth%2Fspreadsheets.readonly&state=3yKmTMuCH2wBw9k2FG2BqZTlEIpkFr&access_type=offline\n"
     ]
    }
   ],
   "source": [
    "\n",
    "# def main():\n",
    "\"\"\"Shows basic usage of the Sheets API.\n",
    "Prints values from a sample spreadsheet.\n",
    "\"\"\"\n",
    "creds = None\n",
    "# The file token.json stores the user's access and refresh tokens, and is\n",
    "# created automatically when the authorization flow completes for the first\n",
    "# time.\n",
    "if os.path.exists(\"token.json\"):\n",
    "  creds = Credentials.from_authorized_user_file(\"token.json\", SCOPES)\n",
    "# If there are no (valid) credentials available, let the user log in.\n",
    "if not creds or not creds.valid:\n",
    "  if creds and creds.expired and creds.refresh_token:\n",
    "    creds.refresh(Request())\n",
    "  else:\n",
    "    flow = InstalledAppFlow.from_client_secrets_file(\n",
    "        \"credentials.json\", SCOPES\n",
    "    )\n",
    "    creds = flow.run_local_server(port=0)\n",
    "  # Save the credentials for the next run\n",
    "  with open(\"token.json\", \"w\") as token:\n",
    "    token.write(creds.to_json())\n"
   ]
  },
  {
   "cell_type": "markdown",
   "metadata": {},
   "source": [
    "## Use the api"
   ]
  },
  {
   "cell_type": "code",
   "execution_count": 42,
   "metadata": {},
   "outputs": [
    {
     "name": "stdout",
     "output_type": "stream",
     "text": [
      "[]\n",
      "['frame', 'timestamp (ns)', 'tstamp diff (ns)']\n",
      "['109', '1690945602775932000']\n",
      "['110', '1690945602875924200', '99989760']\n",
      "['111', '1690945602975930600', '100010240']\n"
     ]
    }
   ],
   "source": [
    "\n",
    "try:\n",
    "  service = build(\"sheets\", \"v4\", credentials=creds)\n",
    "\n",
    "  # Call the Sheets API\n",
    "  sheet = service.spreadsheets()\n",
    "  result = (\n",
    "      sheet.values()\n",
    "      .get(spreadsheetId=SAMPLE_SPREADSHEET_ID, range=SAMPLE_RANGE_NAME)\n",
    "      .execute()\n",
    "  )\n",
    "  values = result.get(\"values\", [])\n",
    "\n",
    "  if not values:\n",
    "      print(\"No data found.\")\n",
    "    #   return\n",
    "\n",
    "  for row in values:\n",
    "    # Print columns A and E, which correspond to indices 0 and 4.\n",
    "    print(f\"{row}\")\n",
    "except HttpError as err:\n",
    "  print(err)\n"
   ]
  },
  {
   "cell_type": "code",
   "execution_count": null,
   "metadata": {},
   "outputs": [],
   "source": []
  },
  {
   "cell_type": "markdown",
   "metadata": {},
   "source": [
    "## Auth using manual process"
   ]
  },
  {
   "cell_type": "code",
   "execution_count": 46,
   "metadata": {},
   "outputs": [],
   "source": [
    "import json\n",
    "with open(\"credentials.json\", encoding='utf-8') as f:\n",
    "    credentials_json = json.load(f)"
   ]
  },
  {
   "cell_type": "code",
   "execution_count": 47,
   "metadata": {},
   "outputs": [
    {
     "name": "stdout",
     "output_type": "stream",
     "text": [
      "https://accounts.google.com/o/oauth2/auth?response_type=code&client_id=879966407845-30rpk9p1l7fulmjit3c9v4mgh0fq99s8.apps.googleusercontent.com&redirect_uri=http%3A%2F%2Flocalhost%3A55407&scope=https%3A%2F%2Fwww.googleapis.com%2Fauth%2Fspreadsheets.readonly&state=Yvz6jkpKxsesWxCOmFZ5ORY7RqyiHO&access_type=offline\n"
     ]
    }
   ],
   "source": [
    "# generate authorization url\n",
    "import requests\n",
    "import socket\n",
    "\n",
    "def find_unused_port():\n",
    "    # Create a socket and bind it to an available port\n",
    "    with socket.socket(socket.AF_INET, socket.SOCK_STREAM) as s:\n",
    "        s.bind(('localhost', 0))  # Bind to localhost with port 0\n",
    "        _, port = s.getsockname()  # Get the port assigned by the OS\n",
    "    return port\n",
    "\n",
    "# Example usage\n",
    "unused_port = find_unused_port()\n",
    "# print(f\"Unused port: {unused_port}\")\n",
    "\n",
    "response_type = 'code'\n",
    "client_id = credentials_json['installed']['client_id']\n",
    "redirect_uri = credentials_json['installed']['redirect_uris'][0] + f':{unused_port}'\n",
    "scope = SCOPES[0]\n",
    "state='Yvz6jkpKxsesWxCOmFZ5ORY7RqyiHO' # any random string of this length\n",
    "access_type='offline'\n",
    "\n",
    "auth_uri = credentials_json['installed']['auth_uri']\n",
    "\n",
    "params = {\n",
    "    \"response_type\": response_type,\n",
    "    \"client_id\": client_id,\n",
    "    \"redirect_uri\": redirect_uri,\n",
    "    \"scope\": scope,\n",
    "    \"state\": state,\n",
    "    \"access_type\": access_type\n",
    "    }\n",
    "\n",
    "authorization_url = requests.Request(\"GET\", auth_uri, params=params).prepare().url\n",
    "print(authorization_url)"
   ]
  },
  {
   "cell_type": "markdown",
   "metadata": {},
   "source": [
    "complete user consent from above url, then copy the auth code from redirected url params"
   ]
  },
  {
   "cell_type": "code",
   "execution_count": 50,
   "metadata": {},
   "outputs": [],
   "source": [
    "authorization_code = '4/0AanRRrtN0p9D7TTgtMjyCZVxYd03rv51_UQlw9MVpPk2EcksYpbPOM_Bj-JMymX1rFueGQ'"
   ]
  },
  {
   "cell_type": "code",
   "execution_count": 51,
   "metadata": {},
   "outputs": [],
   "source": [
    "token_data = {\n",
    "    \"grant_type\": \"authorization_code\",\n",
    "    \"code\": authorization_code,\n",
    "    'client_id': client_id,\n",
    "    'client_secret': credentials_json['installed']['client_secret'],\n",
    "    'redirect_uri': redirect_uri\n",
    "}\n",
    "token_response = requests.post(\"https://oauth2.googleapis.com/token\", data=token_data)\n",
    "\n",
    "if token_response.status_code != 200:\n",
    "    print('Error in getting access token')\n",
    "    print(token_response.json())\n",
    "else:\n",
    "    token_json = token_response.json()\n",
    "    token_json.update(credentials_json['installed'])\n",
    "    creds = Credentials.from_authorized_user_info(token_json, SCOPES)\n",
    "    service = build(\"sheets\", \"v4\", credentials=creds)\n",
    "\n",
    "    # now use this service object to access the sheets api\n"
   ]
  },
  {
   "cell_type": "code",
   "execution_count": 52,
   "metadata": {},
   "outputs": [
    {
     "name": "stdout",
     "output_type": "stream",
     "text": [
      "[]\n",
      "['frame', 'timestamp (ns)', 'tstamp diff (ns)']\n",
      "['109', '1690945602775932000']\n",
      "['110', '1690945602875924200', '99989760']\n",
      "['111', '1690945602975930600', '100010240']\n"
     ]
    }
   ],
   "source": [
    "# Call the Sheets API\n",
    "sheet = service.spreadsheets()\n",
    "result = (\n",
    "    sheet.values()\n",
    "    .get(spreadsheetId=SAMPLE_SPREADSHEET_ID, range=SAMPLE_RANGE_NAME)\n",
    "    .execute()\n",
    ")\n",
    "values = result.get(\"values\", [])\n",
    "\n",
    "if not values:\n",
    "    print(\"No data found.\")\n",
    "#   return\n",
    "\n",
    "for row in values:\n",
    "    # Print columns A and E, which correspond to indices 0 and 4.\n",
    "    print(f\"{row}\")"
   ]
  },
  {
   "cell_type": "code",
   "execution_count": null,
   "metadata": {},
   "outputs": [],
   "source": []
  }
 ],
 "metadata": {
  "kernelspec": {
   "display_name": "Python 3",
   "language": "python",
   "name": "python3"
  },
  "language_info": {
   "codemirror_mode": {
    "name": "ipython",
    "version": 3
   },
   "file_extension": ".py",
   "mimetype": "text/x-python",
   "name": "python",
   "nbconvert_exporter": "python",
   "pygments_lexer": "ipython3",
   "version": "3.11.3"
  }
 },
 "nbformat": 4,
 "nbformat_minor": 2
}
